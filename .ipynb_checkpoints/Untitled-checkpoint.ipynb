{
 "cells": [
  {
   "cell_type": "markdown",
   "id": "d6c9caec",
   "metadata": {},
   "source": [
    "# TensorFlow tutorial"
   ]
  },
  {
   "cell_type": "code",
   "execution_count": 6,
   "id": "cb868b53",
   "metadata": {},
   "outputs": [],
   "source": [
    "import numpy as np\n",
    "import tensorflow as tf"
   ]
  },
  {
   "cell_type": "code",
   "execution_count": 7,
   "id": "3cc0efb2",
   "metadata": {},
   "outputs": [],
   "source": [
    "w = tf.Variable (0, dtype=tf.float32)\n",
    "x = np.array ([1.0, -10.0, 25.0], dtype=np. float32)\n",
    "\n",
    "optimizer = tf.keras.optimizers.Adam (0.1)\n",
    "\n",
    "def training (x, w, optimizer):\n",
    "    def cost_fn ():\n",
    "        return x[0] * w ** 2 + x[1] * w + x [2]\n",
    "    for i in range (1000):\n",
    "        optimizer.minimize(cost_fn, [w])\n",
    "    return w\n",
    "\n",
    "w = training (x, w, optimizer)"
   ]
  },
  {
   "cell_type": "code",
   "execution_count": 8,
   "id": "3cd81e8e",
   "metadata": {},
   "outputs": [
    {
     "data": {
      "text/plain": [
       "<tf.Variable 'Variable:0' shape=() dtype=float32, numpy=5.000001>"
      ]
     },
     "execution_count": 8,
     "metadata": {},
     "output_type": "execute_result"
    }
   ],
   "source": [
    "w"
   ]
  }
 ],
 "metadata": {
  "kernelspec": {
   "display_name": "Python 3 (ipykernel)",
   "language": "python",
   "name": "python3"
  },
  "language_info": {
   "codemirror_mode": {
    "name": "ipython",
    "version": 3
   },
   "file_extension": ".py",
   "mimetype": "text/x-python",
   "name": "python",
   "nbconvert_exporter": "python",
   "pygments_lexer": "ipython3",
   "version": "3.8.10"
  }
 },
 "nbformat": 4,
 "nbformat_minor": 5
}
